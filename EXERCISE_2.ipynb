{
  "nbformat": 4,
  "nbformat_minor": 0,
  "metadata": {
    "colab": {
      "provenance": [],
      "authorship_tag": "ABX9TyNPMXUoiU4sI/sgQAuFmB+4",
      "include_colab_link": true
    },
    "kernelspec": {
      "name": "python3",
      "display_name": "Python 3"
    },
    "language_info": {
      "name": "python"
    }
  },
  "cells": [
    {
      "cell_type": "markdown",
      "metadata": {
        "id": "view-in-github",
        "colab_type": "text"
      },
      "source": [
        "<a href=\"https://colab.research.google.com/github/albertocj1/CCRNFLN_EXERCISES_COM221/blob/main/EXERCISE_2.ipynb\" target=\"_parent\"><img src=\"https://colab.research.google.com/assets/colab-badge.svg\" alt=\"Open In Colab\"/></a>"
      ]
    },
    {
      "cell_type": "code",
      "execution_count": 334,
      "metadata": {
        "id": "XgOdzxDd10mA"
      },
      "outputs": [],
      "source": [
        "from math import sqrt, log\n",
        "import pandas as pd"
      ]
    },
    {
      "cell_type": "code",
      "source": [
        "data = pd.DataFrame({\n",
        "    \"Pull\": [1, 2, 3, 4, 5, 6, 7, 8, 9, 10, 11, 12, 13, 14, 15, 16, 17, 18, 19, 20, 21, 22, 23, 24, 25, 26, 27, 28,29,30,31,32,33,34,35,36,37,38,39, 40, 41, 42, 43, 44, 45, 46, 47, 48, 49, 50],          # Pull number\n",
        "    \"Machine\": [\"A\", \"B\", \"C\", \"A\", \"B\", \"C\", \"A\", \"B\", \"B\", \"B\", \"B\",\"B\", \"B\", \"B\", \"B\", \"B\",\"B\", \"B\", \"B\", \"B\",\"B\", \"B\", \"B\", \"B\",\"B\", \"B\", \"B\",\"B\",\"B\",\"B\",\"B\",\"B\",\"B\",\"B\",\"B\",\"B\",\"B\",\"B\",\"B\",\"B\", \"B\",\"B\",\"B\",\"B\",\"B\",\"B\",\"B\",\"B\",\"B\",\"B\"], # Which machine was played\n",
        "    \"Reward\": [0, 0, 0, 0, 0, 0, 0, 6, 0, 0, 0, 6, 0, 0, 0,0, 0, 55, 0, 6, 0, 0, 0, 3, 1, 0, 0, 1,0,0,0, 0, 0, 0, 0, 0, 0, 0, 0, 0, 0,0, 0, 0, 0, 0, 0, 0, 0, 0]         # Reward received from that machine\n",
        "})\n",
        "\n"
      ],
      "metadata": {
        "id": "VLf0QIPi15LY"
      },
      "execution_count": 335,
      "outputs": []
    },
    {
      "cell_type": "code",
      "source": [],
      "metadata": {
        "id": "0QP7bJPOISOr"
      },
      "execution_count": 335,
      "outputs": []
    },
    {
      "cell_type": "code",
      "source": [
        "def calculate_ucb(df):\n",
        "    results = []\n",
        "    total_pulls = len(df)\n",
        "    machines = sorted(df[\"Machine\"].unique())\n",
        "\n",
        "    for machine in machines:\n",
        "        machine_data = df[df[\"Machine\"] == machine]\n",
        "        n_j = len(machine_data)\n",
        "        avg_reward = machine_data[\"Reward\"].mean()\n",
        "        exploration_bonus = sqrt((2 * log(total_pulls)) / n_j) if n_j > 0 else float(\"inf\")\n",
        "        ucb_score = avg_reward + exploration_bonus\n",
        "        results.append({\n",
        "            \"Machine\": machine,\n",
        "            \"Pulls\": n_j,\n",
        "            \"Avg Reward\": round(avg_reward, 2),\n",
        "            \"Exploration Bonus\": round(exploration_bonus, 4),\n",
        "            \"UCB Score\": round(ucb_score, 4)\n",
        "        })\n",
        "    return pd.DataFrame(results).sort_values(by=\"UCB Score\", ascending=False)"
      ],
      "metadata": {
        "id": "bEWQw-QN1_o3"
      },
      "execution_count": 336,
      "outputs": []
    },
    {
      "cell_type": "code",
      "source": [
        "\n",
        "ucb_table = calculate_ucb(data)\n",
        "print(\"📊 UCB Results Table\")\n",
        "print(ucb_table)"
      ],
      "metadata": {
        "colab": {
          "base_uri": "https://localhost:8080/"
        },
        "id": "hJdEbHEJ2E_o",
        "outputId": "4bfef952-ce8a-4746-d354-468bd758cf2a"
      },
      "execution_count": 337,
      "outputs": [
        {
          "output_type": "stream",
          "name": "stdout",
          "text": [
            "📊 UCB Results Table\n",
            "  Machine  Pulls  Avg Reward  Exploration Bonus  UCB Score\n",
            "1       B     45        1.73             0.4170     2.1503\n",
            "2       C      2        0.00             1.9779     1.9779\n",
            "0       A      3        0.00             1.6149     1.6149\n"
          ]
        }
      ]
    },
    {
      "cell_type": "code",
      "source": [
        "best_machine = ucb_table.iloc[0][\"Machine\"]\n",
        "print(f\"\\n🎯 Recommended next machine to play: {best_machine}\")\n"
      ],
      "metadata": {
        "colab": {
          "base_uri": "https://localhost:8080/"
        },
        "id": "-pN7p-pA2FSP",
        "outputId": "286aafec-a769-483b-e97c-a7fbf1863922"
      },
      "execution_count": 338,
      "outputs": [
        {
          "output_type": "stream",
          "name": "stdout",
          "text": [
            "\n",
            "🎯 Recommended next machine to play: B\n"
          ]
        }
      ]
    },
    {
      "cell_type": "markdown",
      "source": [
        "THE BEST MACHINE TO PLAY IS PARTY BONUS\n"
      ],
      "metadata": {
        "id": "xsW4se14LhwK"
      }
    },
    {
      "cell_type": "code",
      "source": [],
      "metadata": {
        "id": "R-nDsQTVLhfK"
      },
      "execution_count": 338,
      "outputs": []
    },
    {
      "cell_type": "markdown",
      "source": [],
      "metadata": {
        "id": "RmFIS7srHjj0"
      }
    }
  ]
}